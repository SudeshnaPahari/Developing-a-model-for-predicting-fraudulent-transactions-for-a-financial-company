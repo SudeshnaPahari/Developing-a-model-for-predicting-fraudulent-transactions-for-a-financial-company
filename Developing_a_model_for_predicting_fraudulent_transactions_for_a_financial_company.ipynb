{
  "nbformat": 4,
  "nbformat_minor": 0,
  "metadata": {
    "colab": {
      "name": "Developing a model for predicting fraudulent transactions for a financial company.ipynb",
      "provenance": []
    },
    "kernelspec": {
      "name": "python3",
      "display_name": "Python 3"
    },
    "language_info": {
      "name": "python"
    }
  },
  "cells": [
    {
      "cell_type": "code",
      "metadata": {
        "id": "Kxjpeq2TGULK"
      },
      "source": [
        "#importing modules\n",
        "import pandas as pd\n",
        "import numpy as np\n",
        "import matplotlib.pyplot as plt\n",
        "import seaborn as sns\n",
        "%matplotlib inline"
      ],
      "execution_count": 148,
      "outputs": []
    },
    {
      "cell_type": "code",
      "metadata": {
        "colab": {
          "base_uri": "https://localhost:8080/",
          "height": 203
        },
        "id": "AyRGnFkkM_j-",
        "outputId": "c1b68737-7f53-4518-d1c2-382e5132c993"
      },
      "source": [
        "#importing data\n",
        "data= pd.read_csv('Fraud.csv')\n",
        "data.head()"
      ],
      "execution_count": 149,
      "outputs": [
        {
          "output_type": "execute_result",
          "data": {
            "text/html": [
              "<div>\n",
              "<style scoped>\n",
              "    .dataframe tbody tr th:only-of-type {\n",
              "        vertical-align: middle;\n",
              "    }\n",
              "\n",
              "    .dataframe tbody tr th {\n",
              "        vertical-align: top;\n",
              "    }\n",
              "\n",
              "    .dataframe thead th {\n",
              "        text-align: right;\n",
              "    }\n",
              "</style>\n",
              "<table border=\"1\" class=\"dataframe\">\n",
              "  <thead>\n",
              "    <tr style=\"text-align: right;\">\n",
              "      <th></th>\n",
              "      <th>step</th>\n",
              "      <th>type</th>\n",
              "      <th>amount</th>\n",
              "      <th>nameOrig</th>\n",
              "      <th>oldbalanceOrg</th>\n",
              "      <th>newbalanceOrig</th>\n",
              "      <th>nameDest</th>\n",
              "      <th>oldbalanceDest</th>\n",
              "      <th>newbalanceDest</th>\n",
              "      <th>isFraud</th>\n",
              "      <th>isFlaggedFraud</th>\n",
              "    </tr>\n",
              "  </thead>\n",
              "  <tbody>\n",
              "    <tr>\n",
              "      <th>0</th>\n",
              "      <td>1</td>\n",
              "      <td>PAYMENT</td>\n",
              "      <td>9839.64</td>\n",
              "      <td>C1231006815</td>\n",
              "      <td>170136.0</td>\n",
              "      <td>160296.36</td>\n",
              "      <td>M1979787155</td>\n",
              "      <td>0.0</td>\n",
              "      <td>0.0</td>\n",
              "      <td>0.0</td>\n",
              "      <td>0.0</td>\n",
              "    </tr>\n",
              "    <tr>\n",
              "      <th>1</th>\n",
              "      <td>1</td>\n",
              "      <td>PAYMENT</td>\n",
              "      <td>1864.28</td>\n",
              "      <td>C1666544295</td>\n",
              "      <td>21249.0</td>\n",
              "      <td>19384.72</td>\n",
              "      <td>M2044282225</td>\n",
              "      <td>0.0</td>\n",
              "      <td>0.0</td>\n",
              "      <td>0.0</td>\n",
              "      <td>0.0</td>\n",
              "    </tr>\n",
              "    <tr>\n",
              "      <th>2</th>\n",
              "      <td>1</td>\n",
              "      <td>TRANSFER</td>\n",
              "      <td>181.00</td>\n",
              "      <td>C1305486145</td>\n",
              "      <td>181.0</td>\n",
              "      <td>0.00</td>\n",
              "      <td>C553264065</td>\n",
              "      <td>0.0</td>\n",
              "      <td>0.0</td>\n",
              "      <td>1.0</td>\n",
              "      <td>0.0</td>\n",
              "    </tr>\n",
              "    <tr>\n",
              "      <th>3</th>\n",
              "      <td>1</td>\n",
              "      <td>CASH_OUT</td>\n",
              "      <td>181.00</td>\n",
              "      <td>C840083671</td>\n",
              "      <td>181.0</td>\n",
              "      <td>0.00</td>\n",
              "      <td>C38997010</td>\n",
              "      <td>21182.0</td>\n",
              "      <td>0.0</td>\n",
              "      <td>1.0</td>\n",
              "      <td>0.0</td>\n",
              "    </tr>\n",
              "    <tr>\n",
              "      <th>4</th>\n",
              "      <td>1</td>\n",
              "      <td>PAYMENT</td>\n",
              "      <td>11668.14</td>\n",
              "      <td>C2048537720</td>\n",
              "      <td>41554.0</td>\n",
              "      <td>29885.86</td>\n",
              "      <td>M1230701703</td>\n",
              "      <td>0.0</td>\n",
              "      <td>0.0</td>\n",
              "      <td>0.0</td>\n",
              "      <td>0.0</td>\n",
              "    </tr>\n",
              "  </tbody>\n",
              "</table>\n",
              "</div>"
            ],
            "text/plain": [
              "   step      type    amount  ... newbalanceDest  isFraud  isFlaggedFraud\n",
              "0     1   PAYMENT   9839.64  ...            0.0      0.0             0.0\n",
              "1     1   PAYMENT   1864.28  ...            0.0      0.0             0.0\n",
              "2     1  TRANSFER    181.00  ...            0.0      1.0             0.0\n",
              "3     1  CASH_OUT    181.00  ...            0.0      1.0             0.0\n",
              "4     1   PAYMENT  11668.14  ...            0.0      0.0             0.0\n",
              "\n",
              "[5 rows x 11 columns]"
            ]
          },
          "metadata": {},
          "execution_count": 149
        }
      ]
    },
    {
      "cell_type": "code",
      "metadata": {
        "colab": {
          "base_uri": "https://localhost:8080/"
        },
        "id": "cv_h9N45NIOO",
        "outputId": "4094995a-df5d-49c4-f8f2-9f4c19d7086e"
      },
      "source": [
        "type(data)"
      ],
      "execution_count": 150,
      "outputs": [
        {
          "output_type": "execute_result",
          "data": {
            "text/plain": [
              "pandas.core.frame.DataFrame"
            ]
          },
          "metadata": {},
          "execution_count": 150
        }
      ]
    },
    {
      "cell_type": "code",
      "metadata": {
        "colab": {
          "base_uri": "https://localhost:8080/"
        },
        "id": "Cj3Rz9nsNOOe",
        "outputId": "c678c72c-005b-4598-9601-06b5f4ec6b88"
      },
      "source": [
        "data.shape"
      ],
      "execution_count": 151,
      "outputs": [
        {
          "output_type": "execute_result",
          "data": {
            "text/plain": [
              "(1009333, 11)"
            ]
          },
          "metadata": {},
          "execution_count": 151
        }
      ]
    },
    {
      "cell_type": "code",
      "metadata": {
        "colab": {
          "base_uri": "https://localhost:8080/",
          "height": 220
        },
        "id": "7LN_sp-fUd27",
        "outputId": "44bc27fc-cda9-4954-aace-018020a69eac"
      },
      "source": [
        "#Preprocessing the data\n",
        "data= data[list(data.columns[2:])]\n",
        "data= data.drop(['nameDest', 'nameOrig'], axis=1)\n",
        "data= data.dropna()\n",
        "print(data.shape)\n",
        "data.head()\n"
      ],
      "execution_count": 152,
      "outputs": [
        {
          "output_type": "stream",
          "name": "stdout",
          "text": [
            "(1009332, 7)\n"
          ]
        },
        {
          "output_type": "execute_result",
          "data": {
            "text/html": [
              "<div>\n",
              "<style scoped>\n",
              "    .dataframe tbody tr th:only-of-type {\n",
              "        vertical-align: middle;\n",
              "    }\n",
              "\n",
              "    .dataframe tbody tr th {\n",
              "        vertical-align: top;\n",
              "    }\n",
              "\n",
              "    .dataframe thead th {\n",
              "        text-align: right;\n",
              "    }\n",
              "</style>\n",
              "<table border=\"1\" class=\"dataframe\">\n",
              "  <thead>\n",
              "    <tr style=\"text-align: right;\">\n",
              "      <th></th>\n",
              "      <th>amount</th>\n",
              "      <th>oldbalanceOrg</th>\n",
              "      <th>newbalanceOrig</th>\n",
              "      <th>oldbalanceDest</th>\n",
              "      <th>newbalanceDest</th>\n",
              "      <th>isFraud</th>\n",
              "      <th>isFlaggedFraud</th>\n",
              "    </tr>\n",
              "  </thead>\n",
              "  <tbody>\n",
              "    <tr>\n",
              "      <th>0</th>\n",
              "      <td>9839.64</td>\n",
              "      <td>170136.0</td>\n",
              "      <td>160296.36</td>\n",
              "      <td>0.0</td>\n",
              "      <td>0.0</td>\n",
              "      <td>0.0</td>\n",
              "      <td>0.0</td>\n",
              "    </tr>\n",
              "    <tr>\n",
              "      <th>1</th>\n",
              "      <td>1864.28</td>\n",
              "      <td>21249.0</td>\n",
              "      <td>19384.72</td>\n",
              "      <td>0.0</td>\n",
              "      <td>0.0</td>\n",
              "      <td>0.0</td>\n",
              "      <td>0.0</td>\n",
              "    </tr>\n",
              "    <tr>\n",
              "      <th>2</th>\n",
              "      <td>181.00</td>\n",
              "      <td>181.0</td>\n",
              "      <td>0.00</td>\n",
              "      <td>0.0</td>\n",
              "      <td>0.0</td>\n",
              "      <td>1.0</td>\n",
              "      <td>0.0</td>\n",
              "    </tr>\n",
              "    <tr>\n",
              "      <th>3</th>\n",
              "      <td>181.00</td>\n",
              "      <td>181.0</td>\n",
              "      <td>0.00</td>\n",
              "      <td>21182.0</td>\n",
              "      <td>0.0</td>\n",
              "      <td>1.0</td>\n",
              "      <td>0.0</td>\n",
              "    </tr>\n",
              "    <tr>\n",
              "      <th>4</th>\n",
              "      <td>11668.14</td>\n",
              "      <td>41554.0</td>\n",
              "      <td>29885.86</td>\n",
              "      <td>0.0</td>\n",
              "      <td>0.0</td>\n",
              "      <td>0.0</td>\n",
              "      <td>0.0</td>\n",
              "    </tr>\n",
              "  </tbody>\n",
              "</table>\n",
              "</div>"
            ],
            "text/plain": [
              "     amount  oldbalanceOrg  ...  isFraud  isFlaggedFraud\n",
              "0   9839.64       170136.0  ...      0.0             0.0\n",
              "1   1864.28        21249.0  ...      0.0             0.0\n",
              "2    181.00          181.0  ...      1.0             0.0\n",
              "3    181.00          181.0  ...      1.0             0.0\n",
              "4  11668.14        41554.0  ...      0.0             0.0\n",
              "\n",
              "[5 rows x 7 columns]"
            ]
          },
          "metadata": {},
          "execution_count": 152
        }
      ]
    },
    {
      "cell_type": "code",
      "metadata": {
        "colab": {
          "base_uri": "https://localhost:8080/",
          "height": 203
        },
        "id": "kPMoVHExVBfq",
        "outputId": "57be54de-c774-417a-fa17-79b10f54a01d"
      },
      "source": [
        "#Calculating the VIF value to treat multicollinearity\n",
        "import statsmodels.api as sm\n",
        "from statsmodels.stats.outliers_influence import variance_inflation_factor\n",
        "\n",
        "X = data[list(data.columns[:-2])]\n",
        "\n",
        "vif_info = pd.DataFrame()\n",
        "vif_info['VIF'] = [variance_inflation_factor(X.values, i) for i in range(X.shape[1])]\n",
        "vif_info['Column'] = X.columns\n",
        "vif_info.sort_values('VIF', ascending=False)"
      ],
      "execution_count": 153,
      "outputs": [
        {
          "output_type": "execute_result",
          "data": {
            "text/html": [
              "<div>\n",
              "<style scoped>\n",
              "    .dataframe tbody tr th:only-of-type {\n",
              "        vertical-align: middle;\n",
              "    }\n",
              "\n",
              "    .dataframe tbody tr th {\n",
              "        vertical-align: top;\n",
              "    }\n",
              "\n",
              "    .dataframe thead th {\n",
              "        text-align: right;\n",
              "    }\n",
              "</style>\n",
              "<table border=\"1\" class=\"dataframe\">\n",
              "  <thead>\n",
              "    <tr style=\"text-align: right;\">\n",
              "      <th></th>\n",
              "      <th>VIF</th>\n",
              "      <th>Column</th>\n",
              "    </tr>\n",
              "  </thead>\n",
              "  <tbody>\n",
              "    <tr>\n",
              "      <th>2</th>\n",
              "      <td>764.170828</td>\n",
              "      <td>newbalanceOrig</td>\n",
              "    </tr>\n",
              "    <tr>\n",
              "      <th>1</th>\n",
              "      <td>761.315916</td>\n",
              "      <td>oldbalanceOrg</td>\n",
              "    </tr>\n",
              "    <tr>\n",
              "      <th>4</th>\n",
              "      <td>40.550635</td>\n",
              "      <td>newbalanceDest</td>\n",
              "    </tr>\n",
              "    <tr>\n",
              "      <th>3</th>\n",
              "      <td>37.617589</td>\n",
              "      <td>oldbalanceDest</td>\n",
              "    </tr>\n",
              "    <tr>\n",
              "      <th>0</th>\n",
              "      <td>1.664601</td>\n",
              "      <td>amount</td>\n",
              "    </tr>\n",
              "  </tbody>\n",
              "</table>\n",
              "</div>"
            ],
            "text/plain": [
              "          VIF          Column\n",
              "2  764.170828  newbalanceOrig\n",
              "1  761.315916   oldbalanceOrg\n",
              "4   40.550635  newbalanceDest\n",
              "3   37.617589  oldbalanceDest\n",
              "0    1.664601          amount"
            ]
          },
          "metadata": {},
          "execution_count": 153
        }
      ]
    },
    {
      "cell_type": "code",
      "metadata": {
        "colab": {
          "base_uri": "https://localhost:8080/",
          "height": 417
        },
        "id": "AO2aTNQcNTNG",
        "outputId": "cb07d507-c983-4cd9-8703-93ff32875f33"
      },
      "source": [
        "#Finding missing values\n",
        "data.isnull()"
      ],
      "execution_count": 52,
      "outputs": [
        {
          "output_type": "execute_result",
          "data": {
            "text/html": [
              "<div>\n",
              "<style scoped>\n",
              "    .dataframe tbody tr th:only-of-type {\n",
              "        vertical-align: middle;\n",
              "    }\n",
              "\n",
              "    .dataframe tbody tr th {\n",
              "        vertical-align: top;\n",
              "    }\n",
              "\n",
              "    .dataframe thead th {\n",
              "        text-align: right;\n",
              "    }\n",
              "</style>\n",
              "<table border=\"1\" class=\"dataframe\">\n",
              "  <thead>\n",
              "    <tr style=\"text-align: right;\">\n",
              "      <th></th>\n",
              "      <th>step</th>\n",
              "      <th>type</th>\n",
              "      <th>amount</th>\n",
              "      <th>nameOrig</th>\n",
              "      <th>oldbalanceOrg</th>\n",
              "      <th>newbalanceOrig</th>\n",
              "      <th>nameDest</th>\n",
              "      <th>oldbalanceDest</th>\n",
              "      <th>newbalanceDest</th>\n",
              "      <th>isFraud</th>\n",
              "      <th>isFlaggedFraud</th>\n",
              "    </tr>\n",
              "  </thead>\n",
              "  <tbody>\n",
              "    <tr>\n",
              "      <th>0</th>\n",
              "      <td>False</td>\n",
              "      <td>False</td>\n",
              "      <td>False</td>\n",
              "      <td>False</td>\n",
              "      <td>False</td>\n",
              "      <td>False</td>\n",
              "      <td>False</td>\n",
              "      <td>False</td>\n",
              "      <td>False</td>\n",
              "      <td>False</td>\n",
              "      <td>False</td>\n",
              "    </tr>\n",
              "    <tr>\n",
              "      <th>1</th>\n",
              "      <td>False</td>\n",
              "      <td>False</td>\n",
              "      <td>False</td>\n",
              "      <td>False</td>\n",
              "      <td>False</td>\n",
              "      <td>False</td>\n",
              "      <td>False</td>\n",
              "      <td>False</td>\n",
              "      <td>False</td>\n",
              "      <td>False</td>\n",
              "      <td>False</td>\n",
              "    </tr>\n",
              "    <tr>\n",
              "      <th>2</th>\n",
              "      <td>False</td>\n",
              "      <td>False</td>\n",
              "      <td>False</td>\n",
              "      <td>False</td>\n",
              "      <td>False</td>\n",
              "      <td>False</td>\n",
              "      <td>False</td>\n",
              "      <td>False</td>\n",
              "      <td>False</td>\n",
              "      <td>False</td>\n",
              "      <td>False</td>\n",
              "    </tr>\n",
              "    <tr>\n",
              "      <th>3</th>\n",
              "      <td>False</td>\n",
              "      <td>False</td>\n",
              "      <td>False</td>\n",
              "      <td>False</td>\n",
              "      <td>False</td>\n",
              "      <td>False</td>\n",
              "      <td>False</td>\n",
              "      <td>False</td>\n",
              "      <td>False</td>\n",
              "      <td>False</td>\n",
              "      <td>False</td>\n",
              "    </tr>\n",
              "    <tr>\n",
              "      <th>4</th>\n",
              "      <td>False</td>\n",
              "      <td>False</td>\n",
              "      <td>False</td>\n",
              "      <td>False</td>\n",
              "      <td>False</td>\n",
              "      <td>False</td>\n",
              "      <td>False</td>\n",
              "      <td>False</td>\n",
              "      <td>False</td>\n",
              "      <td>False</td>\n",
              "      <td>False</td>\n",
              "    </tr>\n",
              "    <tr>\n",
              "      <th>...</th>\n",
              "      <td>...</td>\n",
              "      <td>...</td>\n",
              "      <td>...</td>\n",
              "      <td>...</td>\n",
              "      <td>...</td>\n",
              "      <td>...</td>\n",
              "      <td>...</td>\n",
              "      <td>...</td>\n",
              "      <td>...</td>\n",
              "      <td>...</td>\n",
              "      <td>...</td>\n",
              "    </tr>\n",
              "    <tr>\n",
              "      <th>1009328</th>\n",
              "      <td>False</td>\n",
              "      <td>False</td>\n",
              "      <td>False</td>\n",
              "      <td>False</td>\n",
              "      <td>False</td>\n",
              "      <td>False</td>\n",
              "      <td>False</td>\n",
              "      <td>False</td>\n",
              "      <td>False</td>\n",
              "      <td>False</td>\n",
              "      <td>False</td>\n",
              "    </tr>\n",
              "    <tr>\n",
              "      <th>1009329</th>\n",
              "      <td>False</td>\n",
              "      <td>False</td>\n",
              "      <td>False</td>\n",
              "      <td>False</td>\n",
              "      <td>False</td>\n",
              "      <td>False</td>\n",
              "      <td>False</td>\n",
              "      <td>False</td>\n",
              "      <td>False</td>\n",
              "      <td>False</td>\n",
              "      <td>False</td>\n",
              "    </tr>\n",
              "    <tr>\n",
              "      <th>1009330</th>\n",
              "      <td>False</td>\n",
              "      <td>False</td>\n",
              "      <td>False</td>\n",
              "      <td>False</td>\n",
              "      <td>False</td>\n",
              "      <td>False</td>\n",
              "      <td>False</td>\n",
              "      <td>False</td>\n",
              "      <td>False</td>\n",
              "      <td>False</td>\n",
              "      <td>False</td>\n",
              "    </tr>\n",
              "    <tr>\n",
              "      <th>1009331</th>\n",
              "      <td>False</td>\n",
              "      <td>False</td>\n",
              "      <td>False</td>\n",
              "      <td>False</td>\n",
              "      <td>False</td>\n",
              "      <td>False</td>\n",
              "      <td>False</td>\n",
              "      <td>False</td>\n",
              "      <td>False</td>\n",
              "      <td>False</td>\n",
              "      <td>False</td>\n",
              "    </tr>\n",
              "    <tr>\n",
              "      <th>1009332</th>\n",
              "      <td>False</td>\n",
              "      <td>False</td>\n",
              "      <td>True</td>\n",
              "      <td>True</td>\n",
              "      <td>True</td>\n",
              "      <td>True</td>\n",
              "      <td>True</td>\n",
              "      <td>True</td>\n",
              "      <td>True</td>\n",
              "      <td>True</td>\n",
              "      <td>True</td>\n",
              "    </tr>\n",
              "  </tbody>\n",
              "</table>\n",
              "<p>1009333 rows × 11 columns</p>\n",
              "</div>"
            ],
            "text/plain": [
              "          step   type  amount  ...  newbalanceDest  isFraud  isFlaggedFraud\n",
              "0        False  False   False  ...           False    False           False\n",
              "1        False  False   False  ...           False    False           False\n",
              "2        False  False   False  ...           False    False           False\n",
              "3        False  False   False  ...           False    False           False\n",
              "4        False  False   False  ...           False    False           False\n",
              "...        ...    ...     ...  ...             ...      ...             ...\n",
              "1009328  False  False   False  ...           False    False           False\n",
              "1009329  False  False   False  ...           False    False           False\n",
              "1009330  False  False   False  ...           False    False           False\n",
              "1009331  False  False   False  ...           False    False           False\n",
              "1009332  False  False    True  ...            True     True            True\n",
              "\n",
              "[1009333 rows x 11 columns]"
            ]
          },
          "metadata": {},
          "execution_count": 52
        }
      ]
    },
    {
      "cell_type": "code",
      "metadata": {
        "colab": {
          "base_uri": "https://localhost:8080/"
        },
        "id": "VwyJRnlHNcXa",
        "outputId": "db30975d-cdbd-4705-f844-98115b95caac"
      },
      "source": [
        "data.isnull().sum()"
      ],
      "execution_count": 53,
      "outputs": [
        {
          "output_type": "execute_result",
          "data": {
            "text/plain": [
              "step              0\n",
              "type              0\n",
              "amount            1\n",
              "nameOrig          1\n",
              "oldbalanceOrg     1\n",
              "newbalanceOrig    1\n",
              "nameDest          1\n",
              "oldbalanceDest    1\n",
              "newbalanceDest    1\n",
              "isFraud           1\n",
              "isFlaggedFraud    1\n",
              "dtype: int64"
            ]
          },
          "metadata": {},
          "execution_count": 53
        }
      ]
    },
    {
      "cell_type": "code",
      "metadata": {
        "colab": {
          "base_uri": "https://localhost:8080/"
        },
        "id": "KWotFy9CQG8G",
        "outputId": "9d4e0447-a2bb-4788-d667-753164a71b3c"
      },
      "source": [
        "data.info()"
      ],
      "execution_count": 54,
      "outputs": [
        {
          "output_type": "stream",
          "name": "stdout",
          "text": [
            "<class 'pandas.core.frame.DataFrame'>\n",
            "RangeIndex: 1009333 entries, 0 to 1009332\n",
            "Data columns (total 11 columns):\n",
            " #   Column          Non-Null Count    Dtype  \n",
            "---  ------          --------------    -----  \n",
            " 0   step            1009333 non-null  int64  \n",
            " 1   type            1009333 non-null  object \n",
            " 2   amount          1009332 non-null  float64\n",
            " 3   nameOrig        1009332 non-null  object \n",
            " 4   oldbalanceOrg   1009332 non-null  float64\n",
            " 5   newbalanceOrig  1009332 non-null  float64\n",
            " 6   nameDest        1009332 non-null  object \n",
            " 7   oldbalanceDest  1009332 non-null  float64\n",
            " 8   newbalanceDest  1009332 non-null  float64\n",
            " 9   isFraud         1009332 non-null  float64\n",
            " 10  isFlaggedFraud  1009332 non-null  float64\n",
            "dtypes: float64(7), int64(1), object(3)\n",
            "memory usage: 84.7+ MB\n"
          ]
        }
      ]
    },
    {
      "cell_type": "code",
      "metadata": {
        "colab": {
          "base_uri": "https://localhost:8080/",
          "height": 417
        },
        "id": "_gE4L_Y5QMW-",
        "outputId": "a77d0377-42a6-46d6-de57-4c89bf9bd346"
      },
      "source": [
        "data.dropna()"
      ],
      "execution_count": 55,
      "outputs": [
        {
          "output_type": "execute_result",
          "data": {
            "text/html": [
              "<div>\n",
              "<style scoped>\n",
              "    .dataframe tbody tr th:only-of-type {\n",
              "        vertical-align: middle;\n",
              "    }\n",
              "\n",
              "    .dataframe tbody tr th {\n",
              "        vertical-align: top;\n",
              "    }\n",
              "\n",
              "    .dataframe thead th {\n",
              "        text-align: right;\n",
              "    }\n",
              "</style>\n",
              "<table border=\"1\" class=\"dataframe\">\n",
              "  <thead>\n",
              "    <tr style=\"text-align: right;\">\n",
              "      <th></th>\n",
              "      <th>step</th>\n",
              "      <th>type</th>\n",
              "      <th>amount</th>\n",
              "      <th>nameOrig</th>\n",
              "      <th>oldbalanceOrg</th>\n",
              "      <th>newbalanceOrig</th>\n",
              "      <th>nameDest</th>\n",
              "      <th>oldbalanceDest</th>\n",
              "      <th>newbalanceDest</th>\n",
              "      <th>isFraud</th>\n",
              "      <th>isFlaggedFraud</th>\n",
              "    </tr>\n",
              "  </thead>\n",
              "  <tbody>\n",
              "    <tr>\n",
              "      <th>0</th>\n",
              "      <td>1</td>\n",
              "      <td>PAYMENT</td>\n",
              "      <td>9839.64</td>\n",
              "      <td>C1231006815</td>\n",
              "      <td>170136.0</td>\n",
              "      <td>160296.36</td>\n",
              "      <td>M1979787155</td>\n",
              "      <td>0.00</td>\n",
              "      <td>0.00</td>\n",
              "      <td>0.0</td>\n",
              "      <td>0.0</td>\n",
              "    </tr>\n",
              "    <tr>\n",
              "      <th>1</th>\n",
              "      <td>1</td>\n",
              "      <td>PAYMENT</td>\n",
              "      <td>1864.28</td>\n",
              "      <td>C1666544295</td>\n",
              "      <td>21249.0</td>\n",
              "      <td>19384.72</td>\n",
              "      <td>M2044282225</td>\n",
              "      <td>0.00</td>\n",
              "      <td>0.00</td>\n",
              "      <td>0.0</td>\n",
              "      <td>0.0</td>\n",
              "    </tr>\n",
              "    <tr>\n",
              "      <th>2</th>\n",
              "      <td>1</td>\n",
              "      <td>TRANSFER</td>\n",
              "      <td>181.00</td>\n",
              "      <td>C1305486145</td>\n",
              "      <td>181.0</td>\n",
              "      <td>0.00</td>\n",
              "      <td>C553264065</td>\n",
              "      <td>0.00</td>\n",
              "      <td>0.00</td>\n",
              "      <td>1.0</td>\n",
              "      <td>0.0</td>\n",
              "    </tr>\n",
              "    <tr>\n",
              "      <th>3</th>\n",
              "      <td>1</td>\n",
              "      <td>CASH_OUT</td>\n",
              "      <td>181.00</td>\n",
              "      <td>C840083671</td>\n",
              "      <td>181.0</td>\n",
              "      <td>0.00</td>\n",
              "      <td>C38997010</td>\n",
              "      <td>21182.00</td>\n",
              "      <td>0.00</td>\n",
              "      <td>1.0</td>\n",
              "      <td>0.0</td>\n",
              "    </tr>\n",
              "    <tr>\n",
              "      <th>4</th>\n",
              "      <td>1</td>\n",
              "      <td>PAYMENT</td>\n",
              "      <td>11668.14</td>\n",
              "      <td>C2048537720</td>\n",
              "      <td>41554.0</td>\n",
              "      <td>29885.86</td>\n",
              "      <td>M1230701703</td>\n",
              "      <td>0.00</td>\n",
              "      <td>0.00</td>\n",
              "      <td>0.0</td>\n",
              "      <td>0.0</td>\n",
              "    </tr>\n",
              "    <tr>\n",
              "      <th>...</th>\n",
              "      <td>...</td>\n",
              "      <td>...</td>\n",
              "      <td>...</td>\n",
              "      <td>...</td>\n",
              "      <td>...</td>\n",
              "      <td>...</td>\n",
              "      <td>...</td>\n",
              "      <td>...</td>\n",
              "      <td>...</td>\n",
              "      <td>...</td>\n",
              "      <td>...</td>\n",
              "    </tr>\n",
              "    <tr>\n",
              "      <th>1009327</th>\n",
              "      <td>46</td>\n",
              "      <td>TRANSFER</td>\n",
              "      <td>460382.20</td>\n",
              "      <td>C964554525</td>\n",
              "      <td>0.0</td>\n",
              "      <td>0.00</td>\n",
              "      <td>C358839398</td>\n",
              "      <td>1494084.40</td>\n",
              "      <td>1954466.60</td>\n",
              "      <td>0.0</td>\n",
              "      <td>0.0</td>\n",
              "    </tr>\n",
              "    <tr>\n",
              "      <th>1009328</th>\n",
              "      <td>46</td>\n",
              "      <td>TRANSFER</td>\n",
              "      <td>599326.42</td>\n",
              "      <td>C178471881</td>\n",
              "      <td>0.0</td>\n",
              "      <td>0.00</td>\n",
              "      <td>C1281898359</td>\n",
              "      <td>9418176.68</td>\n",
              "      <td>10017503.10</td>\n",
              "      <td>0.0</td>\n",
              "      <td>0.0</td>\n",
              "    </tr>\n",
              "    <tr>\n",
              "      <th>1009329</th>\n",
              "      <td>46</td>\n",
              "      <td>TRANSFER</td>\n",
              "      <td>1284506.60</td>\n",
              "      <td>C1069472372</td>\n",
              "      <td>0.0</td>\n",
              "      <td>0.00</td>\n",
              "      <td>C793315160</td>\n",
              "      <td>4676653.80</td>\n",
              "      <td>5961160.40</td>\n",
              "      <td>0.0</td>\n",
              "      <td>0.0</td>\n",
              "    </tr>\n",
              "    <tr>\n",
              "      <th>1009330</th>\n",
              "      <td>46</td>\n",
              "      <td>TRANSFER</td>\n",
              "      <td>124801.06</td>\n",
              "      <td>C1178172487</td>\n",
              "      <td>0.0</td>\n",
              "      <td>0.00</td>\n",
              "      <td>C793302743</td>\n",
              "      <td>5274092.74</td>\n",
              "      <td>5398893.80</td>\n",
              "      <td>0.0</td>\n",
              "      <td>0.0</td>\n",
              "    </tr>\n",
              "    <tr>\n",
              "      <th>1009331</th>\n",
              "      <td>46</td>\n",
              "      <td>TRANSFER</td>\n",
              "      <td>258419.32</td>\n",
              "      <td>C283801242</td>\n",
              "      <td>0.0</td>\n",
              "      <td>0.00</td>\n",
              "      <td>C495064916</td>\n",
              "      <td>6711171.06</td>\n",
              "      <td>6969590.38</td>\n",
              "      <td>0.0</td>\n",
              "      <td>0.0</td>\n",
              "    </tr>\n",
              "  </tbody>\n",
              "</table>\n",
              "<p>1009332 rows × 11 columns</p>\n",
              "</div>"
            ],
            "text/plain": [
              "         step      type      amount  ... newbalanceDest  isFraud  isFlaggedFraud\n",
              "0           1   PAYMENT     9839.64  ...           0.00      0.0             0.0\n",
              "1           1   PAYMENT     1864.28  ...           0.00      0.0             0.0\n",
              "2           1  TRANSFER      181.00  ...           0.00      1.0             0.0\n",
              "3           1  CASH_OUT      181.00  ...           0.00      1.0             0.0\n",
              "4           1   PAYMENT    11668.14  ...           0.00      0.0             0.0\n",
              "...       ...       ...         ...  ...            ...      ...             ...\n",
              "1009327    46  TRANSFER   460382.20  ...     1954466.60      0.0             0.0\n",
              "1009328    46  TRANSFER   599326.42  ...    10017503.10      0.0             0.0\n",
              "1009329    46  TRANSFER  1284506.60  ...     5961160.40      0.0             0.0\n",
              "1009330    46  TRANSFER   124801.06  ...     5398893.80      0.0             0.0\n",
              "1009331    46  TRANSFER   258419.32  ...     6969590.38      0.0             0.0\n",
              "\n",
              "[1009332 rows x 11 columns]"
            ]
          },
          "metadata": {},
          "execution_count": 55
        }
      ]
    },
    {
      "cell_type": "code",
      "metadata": {
        "colab": {
          "base_uri": "https://localhost:8080/"
        },
        "id": "PZu_lSqaXsdw",
        "outputId": "958c4f1f-c779-42ea-c634-1017a155df46"
      },
      "source": [
        "#Removing zero values\n",
        "data['nameOrig'].fillna('C1231006815', inplace= True)\n",
        "data['oldbalanceOrg'].fillna('8.778681e+05', inplace= True)\n",
        "data['newbalanceOrig'].fillna('8.984670e+05', inplace= True)\n",
        "data['oldbalanceDest'].fillna('9.845256e+05\t', inplace= True)\n",
        "data['newbalanceDest'].fillna('1.123367e+06\t', inplace= True)\n",
        "data['isFraud'].fillna('5.379796e-04', inplace= True)\n",
        "data['isFlaggedFraud'].fillna('0.0', inplace= True)\n",
        "data['nameDest'].fillna('M1979787155\t', inplace= True)\n",
        "data['amount'].fillna('1.597863e+05', inplace= True)\n",
        "data.isnull().sum()"
      ],
      "execution_count": 56,
      "outputs": [
        {
          "output_type": "execute_result",
          "data": {
            "text/plain": [
              "step              0\n",
              "type              0\n",
              "amount            0\n",
              "nameOrig          0\n",
              "oldbalanceOrg     0\n",
              "newbalanceOrig    0\n",
              "nameDest          0\n",
              "oldbalanceDest    0\n",
              "newbalanceDest    0\n",
              "isFraud           0\n",
              "isFlaggedFraud    0\n",
              "dtype: int64"
            ]
          },
          "metadata": {},
          "execution_count": 56
        }
      ]
    },
    {
      "cell_type": "code",
      "metadata": {
        "colab": {
          "base_uri": "https://localhost:8080/",
          "height": 279
        },
        "id": "aw3Z5oVWb5yY",
        "outputId": "f57e5762-d6b9-4983-f9bd-60beba7448e9"
      },
      "source": [
        "#Finding outliers\n",
        "sns.boxplot(x=data['amount'])\n"
      ],
      "execution_count": 89,
      "outputs": [
        {
          "output_type": "display_data",
          "data": {
            "image/png": "[encoded data removed]",
            "text/plain": [
              "<Figure size 432x288 with 1 Axes>"
            ]
          },
          "metadata": {
            "needs_background": "light"
          }
        }
      ]
    },
    {
      "cell_type": "code",
      "metadata": {
        "colab": {
          "base_uri": "https://localhost:8080/"
        },
        "id": "6CPcC7WMz03T",
        "outputId": "87af9616-5362-49d5-c886-6df132df20aa"
      },
      "source": [
        "#Removing outliers\n",
        "print(data['amount'].quantile(0.25))\n",
        "print(data['amount'].quantile(0.45))\n",
        "print(data['amount'].quantile(0.35))"
      ],
      "execution_count": 94,
      "outputs": [
        {
          "output_type": "stream",
          "name": "stdout",
          "text": [
            "12647.294999999998\n",
            "55786.8715\n",
            "23583.032\n"
          ]
        }
      ]
    },
    {
      "cell_type": "code",
      "metadata": {
        "colab": {
          "base_uri": "https://localhost:8080/"
        },
        "id": "UOZeZIky2Whk",
        "outputId": "34b97e82-260d-4738-bee9-60674a5696ee"
      },
      "source": [
        "import numpy as np\n",
        "data['amount']= np.where(data['amount']>55786.8715,23583.032,data['amount'])\n",
        "data['amount'].describe()"
      ],
      "execution_count": 97,
      "outputs": [
        {
          "output_type": "execute_result",
          "data": {
            "text/plain": [
              "count    1.009332e+06\n",
              "mean     1.986321e+04\n",
              "std      1.003219e+04\n",
              "min      1.000000e-01\n",
              "25%      1.264729e+04\n",
              "50%      2.358303e+04\n",
              "75%      2.358303e+04\n",
              "max      5.578652e+04\n",
              "Name: amount, dtype: float64"
            ]
          },
          "metadata": {},
          "execution_count": 97
        }
      ]
    },
    {
      "cell_type": "code",
      "metadata": {
        "colab": {
          "base_uri": "https://localhost:8080/",
          "height": 296
        },
        "id": "QbrIa9dw29C-",
        "outputId": "b733f3c7-447c-48d3-f9d0-4ff3507f87aa"
      },
      "source": [
        "sns.boxplot(x=data['amount'])"
      ],
      "execution_count": 98,
      "outputs": [
        {
          "output_type": "execute_result",
          "data": {
            "text/plain": [
              "<matplotlib.axes._subplots.AxesSubplot at 0x7fe80a3a59d0>"
            ]
          },
          "metadata": {},
          "execution_count": 98
        },
        {
          "output_type": "display_data",
          "data": {
            "image/png": "[encoded data removed]",
            "text/plain": [
              "<Figure size 432x288 with 1 Axes>"
            ]
          },
          "metadata": {
            "needs_background": "light"
          }
        }
      ]
    },
    {
      "cell_type": "code",
      "metadata": {
        "colab": {
          "base_uri": "https://localhost:8080/",
          "height": 295
        },
        "id": "2q5v45atAnAx",
        "outputId": "0739a412-1f63-4a5e-b93b-db62575a07c5"
      },
      "source": [
        "data.describe()"
      ],
      "execution_count": 104,
      "outputs": [
        {
          "output_type": "execute_result",
          "data": {
            "text/html": [
              "<div>\n",
              "<style scoped>\n",
              "    .dataframe tbody tr th:only-of-type {\n",
              "        vertical-align: middle;\n",
              "    }\n",
              "\n",
              "    .dataframe tbody tr th {\n",
              "        vertical-align: top;\n",
              "    }\n",
              "\n",
              "    .dataframe thead th {\n",
              "        text-align: right;\n",
              "    }\n",
              "</style>\n",
              "<table border=\"1\" class=\"dataframe\">\n",
              "  <thead>\n",
              "    <tr style=\"text-align: right;\">\n",
              "      <th></th>\n",
              "      <th>step</th>\n",
              "      <th>amount</th>\n",
              "      <th>oldbalanceOrg</th>\n",
              "      <th>newbalanceOrig</th>\n",
              "      <th>oldbalanceDest</th>\n",
              "      <th>newbalanceDest</th>\n",
              "      <th>isFraud</th>\n",
              "      <th>isFlaggedFraud</th>\n",
              "    </tr>\n",
              "  </thead>\n",
              "  <tbody>\n",
              "    <tr>\n",
              "      <th>count</th>\n",
              "      <td>1.009333e+06</td>\n",
              "      <td>1.009332e+06</td>\n",
              "      <td>1.009332e+06</td>\n",
              "      <td>1.009332e+06</td>\n",
              "      <td>1.009332e+06</td>\n",
              "      <td>1.009332e+06</td>\n",
              "      <td>1.009332e+06</td>\n",
              "      <td>1009332.0</td>\n",
              "    </tr>\n",
              "    <tr>\n",
              "      <th>mean</th>\n",
              "      <td>2.534647e+01</td>\n",
              "      <td>1.597863e+05</td>\n",
              "      <td>8.778681e+05</td>\n",
              "      <td>8.984670e+05</td>\n",
              "      <td>9.845256e+05</td>\n",
              "      <td>1.123367e+06</td>\n",
              "      <td>5.379796e-04</td>\n",
              "      <td>0.0</td>\n",
              "    </tr>\n",
              "    <tr>\n",
              "      <th>std</th>\n",
              "      <td>1.274633e+01</td>\n",
              "      <td>2.592227e+05</td>\n",
              "      <td>2.987209e+06</td>\n",
              "      <td>3.024059e+06</td>\n",
              "      <td>2.303962e+06</td>\n",
              "      <td>2.424628e+06</td>\n",
              "      <td>2.318816e-02</td>\n",
              "      <td>0.0</td>\n",
              "    </tr>\n",
              "    <tr>\n",
              "      <th>min</th>\n",
              "      <td>1.000000e+00</td>\n",
              "      <td>1.000000e-01</td>\n",
              "      <td>0.000000e+00</td>\n",
              "      <td>0.000000e+00</td>\n",
              "      <td>0.000000e+00</td>\n",
              "      <td>0.000000e+00</td>\n",
              "      <td>0.000000e+00</td>\n",
              "      <td>0.0</td>\n",
              "    </tr>\n",
              "    <tr>\n",
              "      <th>25%</th>\n",
              "      <td>1.400000e+01</td>\n",
              "      <td>1.264729e+04</td>\n",
              "      <td>0.000000e+00</td>\n",
              "      <td>0.000000e+00</td>\n",
              "      <td>0.000000e+00</td>\n",
              "      <td>0.000000e+00</td>\n",
              "      <td>0.000000e+00</td>\n",
              "      <td>0.0</td>\n",
              "    </tr>\n",
              "    <tr>\n",
              "      <th>50%</th>\n",
              "      <td>2.000000e+01</td>\n",
              "      <td>7.896417e+04</td>\n",
              "      <td>1.594600e+04</td>\n",
              "      <td>0.000000e+00</td>\n",
              "      <td>1.336049e+05</td>\n",
              "      <td>2.283183e+05</td>\n",
              "      <td>0.000000e+00</td>\n",
              "      <td>0.0</td>\n",
              "    </tr>\n",
              "    <tr>\n",
              "      <th>75%</th>\n",
              "      <td>3.800000e+01</td>\n",
              "      <td>2.160109e+05</td>\n",
              "      <td>1.386571e+05</td>\n",
              "      <td>1.784905e+05</td>\n",
              "      <td>9.248887e+05</td>\n",
              "      <td>1.164610e+06</td>\n",
              "      <td>0.000000e+00</td>\n",
              "      <td>0.0</td>\n",
              "    </tr>\n",
              "    <tr>\n",
              "      <th>max</th>\n",
              "      <td>4.600000e+01</td>\n",
              "      <td>1.000000e+07</td>\n",
              "      <td>3.893942e+07</td>\n",
              "      <td>3.894623e+07</td>\n",
              "      <td>4.205466e+07</td>\n",
              "      <td>4.216916e+07</td>\n",
              "      <td>1.000000e+00</td>\n",
              "      <td>0.0</td>\n",
              "    </tr>\n",
              "  </tbody>\n",
              "</table>\n",
              "</div>"
            ],
            "text/plain": [
              "               step        amount  ...       isFraud  isFlaggedFraud\n",
              "count  1.009333e+06  1.009332e+06  ...  1.009332e+06       1009332.0\n",
              "mean   2.534647e+01  1.597863e+05  ...  5.379796e-04             0.0\n",
              "std    1.274633e+01  2.592227e+05  ...  2.318816e-02             0.0\n",
              "min    1.000000e+00  1.000000e-01  ...  0.000000e+00             0.0\n",
              "25%    1.400000e+01  1.264729e+04  ...  0.000000e+00             0.0\n",
              "50%    2.000000e+01  7.896417e+04  ...  0.000000e+00             0.0\n",
              "75%    3.800000e+01  2.160109e+05  ...  0.000000e+00             0.0\n",
              "max    4.600000e+01  1.000000e+07  ...  1.000000e+00             0.0\n",
              "\n",
              "[8 rows x 8 columns]"
            ]
          },
          "metadata": {},
          "execution_count": 104
        }
      ]
    },
    {
      "cell_type": "code",
      "metadata": {
        "id": "5eIUWdxJkhnD"
      },
      "source": [
        "#Building Linear Regression Model\n",
        "from sklearn.model_selection import train_test_split\n",
        "from sklearn.linear_model import LinearRegression\n",
        "train= data.drop(['amount','oldbalanceOrg','oldbalanceDest'], axis=1)\n",
        "test= data['amount']"
      ],
      "execution_count": 167,
      "outputs": []
    },
    {
      "cell_type": "code",
      "metadata": {
        "id": "SbY4DkwsnGyM"
      },
      "source": [
        "X_train, X_test, y_train, y_test = train_test_split(X,y,test_size=0.3)"
      ],
      "execution_count": 168,
      "outputs": []
    },
    {
      "cell_type": "code",
      "metadata": {
        "colab": {
          "base_uri": "https://localhost:8080/"
        },
        "id": "FjV47nmYnc6X",
        "outputId": "1cd30c10-4464-4605-8525-8b32740fc3e4"
      },
      "source": [
        "clf = LinearRegression()\n",
        "clf.fit(X_train, y_train)"
      ],
      "execution_count": 169,
      "outputs": [
        {
          "output_type": "execute_result",
          "data": {
            "text/plain": [
              "LinearRegression(copy_X=True, fit_intercept=True, n_jobs=None, normalize=False)"
            ]
          },
          "metadata": {},
          "execution_count": 169
        }
      ]
    },
    {
      "cell_type": "code",
      "metadata": {
        "colab": {
          "base_uri": "https://localhost:8080/"
        },
        "id": "40-NN68qnmF2",
        "outputId": "3804a577-593e-4bb7-ab19-3474365e17e5"
      },
      "source": [
        "clf.predict(X_test)"
      ],
      "execution_count": 170,
      "outputs": [
        {
          "output_type": "execute_result",
          "data": {
            "text/plain": [
              "array([ 1.10667022,  0.77812285,  0.94574286,  0.22125004,  0.81467138,\n",
              "        0.22453452,  0.26908771,  1.36335004,  0.47756856,  0.18820278,\n",
              "        1.09405295, -0.18517934,  0.77414952,  0.2881012 ,  1.36809374,\n",
              "        1.51423875,  1.09682473,  0.83818321,  0.25542401,  0.77138939,\n",
              "        2.04111133,  0.06508169,  0.13169295,  1.33271176,  0.1326566 ,\n",
              "        0.87750253,  1.23072433,  1.53364184,  0.45583364,  0.92198191,\n",
              "        1.60803274,  2.10859799, -0.11948325,  1.05865869,  0.45237168,\n",
              "        1.7944798 ,  1.99568044,  1.63058756,  1.85298333,  1.7278008 ,\n",
              "        1.85798029,  2.05691144,  1.02820463,  0.23346794, -0.01277133,\n",
              "        0.97792315,  0.92314623,  0.41348308,  2.215496  ,  1.26303828,\n",
              "        0.89157132,  0.1680832 ,  1.89629315, -0.19116028])"
            ]
          },
          "metadata": {},
          "execution_count": 170
        }
      ]
    },
    {
      "cell_type": "code",
      "metadata": {
        "colab": {
          "base_uri": "https://localhost:8080/"
        },
        "id": "rGOwBlnDnrFf",
        "outputId": "b55f492c-4591-46aa-ec5e-0fd21b3b83dd"
      },
      "source": [
        "#Checking accuracy\n",
        "clf.score(X_test, y_test)"
      ],
      "execution_count": 171,
      "outputs": [
        {
          "output_type": "execute_result",
          "data": {
            "text/plain": [
              "0.881862127051407"
            ]
          },
          "metadata": {},
          "execution_count": 171
        }
      ]
    },
    {
      "cell_type": "code",
      "metadata": {
        "id": "yAEQov3VpBZD"
      },
      "source": [
        "#How did you select variables to be included in the model?\n",
        "#I have selectd variables by - Handling missing values and low variability, avoiding multi-collinearity and reducing outliers. I have used Linear Regression classifier in my model to check accuracy"
      ],
      "execution_count": 173,
      "outputs": []
    },
    {
      "cell_type": "code",
      "metadata": {
        "id": "CCEbDJdhqMBi"
      },
      "source": [
        "#Demonstrate the performance of the model by using best set of tools.\n",
        "#The purpose of holdout evaluation is to test a model on different data than it was trained on. This provides an unbiased estimate of learning performance.\n",
        "#In this method, the dataset is randomly divided into three subsets:\n",
        "#1.Training set is a subset of the dataset used to build predictive models.\n",
        "#2.Validation set is a subset of the dataset used to assess the performance of the model built in the training phase. It provides a test platform for fine-tuning a model’s parameters and selecting the best performing model. Not all modeling algorithms need a validation set.\n",
        "#3.Test set, or unseen data, is a subset of the dataset used to assess the likely future performance of a model. If a model fits to the training set much better than it fits the test set, overfitting is probably the cause.\n",
        "#Accuracy is a common evaluation metric for classification problems. It’s the number of correct predictions made as a ratio of all predictions made. I used sklearn module to compute the accuracy of a classification task and got 88 percent accuracy."
      ],
      "execution_count": 174,
      "outputs": []
    },
    {
      "cell_type": "code",
      "metadata": {
        "id": "iLbDeuVmrbJm"
      },
      "source": [
        "#What are the key factors that predict fraudulent customer? \n",
        "#Data\n",
        "#Validation mechanism for predicted outcomes\n",
        "#Monitoring prediction outcomes"
      ],
      "execution_count": 175,
      "outputs": []
    },
    {
      "cell_type": "code",
      "metadata": {
        "id": "emlki7ZisDda"
      },
      "source": [
        "#Do these factors make sense? If yes, How? If not, How not? \n",
        "#Yes.  Data: Machine learning algorithms require data. The data shall be relevant, qualitative, adequate and unbiased. Not all data that one may have is relevant, qualitative, or adequate. Qualitative data reflects on the completeness and correctness of the data considered for the machine learning. Bias in the source data may make the predictions inconsistent thereby impacting the results, specifically when it would question the integrity of a customer/employee as the case may be. In light of the fact that certain predictions may be difficult to validate, having an unbiased data set is of utmost importance.\n",
        "#Validation mechanism for predicted outcomes: It is hypercritical to understand that fraud prediction models with limited or no human intervention may not be possible in all circumstances. Instead, it is critical also to know how humans along with machine learning intelligence can better prevent frauds. A structured validation mechanism of the transactional prediction is essential to make a machine learning model successful. The validation mechanism shall be focused on using the predicted outcomes to gather pieces of evidence that proves or disproves the prediction. These outcomes could be essential feed for enhancing the model accuracy and precision.\n",
        "#Monitoring prediction outcomes: Black box approaches for machine learning are prominent, but they do not necessarily exhibit the determinants for prediction. While alternative researches and approaches towards understanding the predictions or patterns learned are in progress, more attention is required towards monitoring the outcomes. Monitoring the input data trends and changes in the patterns over the period and cross-correlating the same with the changes in the prediction, running mock transactions and review of false positives to identify the extent to which the model needs to be tuned is critical. Monitoring is a critical role that is required to avoid possibilities of over-reliance on prediction systems."
      ],
      "execution_count": 176,
      "outputs": []
    },
    {
      "cell_type": "code",
      "metadata": {
        "id": "3iSYXNPn1_Z8"
      },
      "source": [
        "#What kind of prevention should be adopted while company update its infrastructure?\n",
        "#authentication protection, network-level protection, ID verification by pre-trained Neural Network etc are some preventions a company should adopt to prevent fraud transaction."
      ],
      "execution_count": 177,
      "outputs": []
    },
    {
      "cell_type": "code",
      "metadata": {
        "id": "lCtduefQ4PZI"
      },
      "source": [
        "#Assuming these actions have been implemented, how would you determine if they work?\n",
        "#By feeding data, extracting features, training the algorithm and creating a model just like I did in this project."
      ],
      "execution_count": 178,
      "outputs": []
    }
  ]
}